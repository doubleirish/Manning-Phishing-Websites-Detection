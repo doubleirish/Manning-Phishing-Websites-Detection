#%%

  
import numpy as np
# fix the seed of the random number generator of numpy and TensorFlow so that your project is reproducible as soon as you import them.

np.random.seed(1234)
np.random.normal(0, 1, (3,3))
# displays same values every time 
# TODO add an Assert ?




#%%

import pandas as pd  
# Take a look at the first ten rows of the dataset. 
# The dataset has a large number of features, so you might want to modify the output a bit to make it fit the screen. 
path=  "./Phishing.csv"  
df=pd.read_csv(path)    
df.head(10).transpose()

#%%

import pandas as pd  
# Find out the exact dimensions of the dataset.
(rows,cols)= df.shape  
print ("rows=",rows,", cols=",cols)

#%%

import pandas as pd    
# Find out how many unique labels are there in the dataset. The labels of the dataset are given in the Result column. 
uniqueResults = df.Result.unique()  
print ("There are ", uniqueResults.size ," unique values for the 'Results' series e.g ", uniqueResults)
