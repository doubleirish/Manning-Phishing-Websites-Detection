{
 "cells": [
  {
   "cell_type": "code",
   "execution_count": 63,
   "metadata": {
    "pycharm": {
     "is_executing": false
    }
   },
   "outputs": [
    {
     "name": "stdout",
     "output_type": "stream",
     "text": [
      "Loaded  11055  phishing records ...\n",
      "Read 11055 rows with 31 Columns\n",
      "1    6157\n",
      "0    4898\n",
      "Name: Result, dtype: int64\n",
      "positives as percentage of whole df is 0.56 %\n",
      "Training DF has  8844 rows with 31 Columns\n",
      "    Test DF has  2211 rows with 31 Columns\n",
      "positives as percentage of training df is 0.56 %\n",
      "positives as percentage of     test df is 0.54 %\n"
     ]
    }
   ],
   "source": [
    "import pandas as pd \n",
    "from sklearn.model_selection import train_test_split\n",
    "\n",
    "# Identify  how many rows and columns we may need to clean \n",
    "path=  \"./Phishing.csv\"  \n",
    "df=pd.read_csv(path)    \n",
    "print (\"Loaded \",len(df.index),  \" phishing records ...\")\n",
    "(rows, cols) = df.shape\n",
    "print (\"Read\", rows, \"rows with\", cols, \"Columns\")\n",
    "#df.Result.value_counts()\n",
    " \n",
    "# replace null values e.g \"-1\" with false values e.g \"0\"   \n",
    "df=df.replace(to_replace = -1,    value =0 )     \n",
    "print (df.Result.value_counts())\n",
    "positives =df.Result.value_counts()[1]\n",
    "print (\"positives as percentage of whole df is {:0.2f} %\".format(positives/rows))      \n",
    "\n",
    "\n",
    "# split up into training an test sets\n",
    "train_df, test_df = train_test_split(\n",
    "        df,\n",
    "        test_size=0.2,\n",
    "        random_state=0) \n",
    "\n",
    "print (\"Training DF has \", train_df.shape[0], \"rows with\", train_df.shape[1], \"Columns\")\n",
    "print (\"    Test DF has \", test_df.shape[0], \"rows with\", test_df.shape[1], \"Columns\")\n",
    "\n",
    "train_positives =train_df.Result.value_counts()[1]\n",
    "test_positives =test_df.Result.value_counts()[1]\n",
    "print (\"positives as percentage of training df is {:0.2f} %\".format(train_positives/train_df.shape[0]))      \n",
    "print (\"positives as percentage of     test df is {:0.2f} %\".format(test_positives/test_df.shape[0]))      \n",
    "\n",
    "# No change on column names in test frame\n",
    "assert len(df.columns.difference(test_df.columns))==0\n",
    "assert len(test_df.columns.difference(df.columns))==0\n",
    "\n",
    "# for (columnName, columnData) in test_df.iteritems():\n",
    "#   print('Col Name : ', columnName)\n",
    "#   print( columnData.value_counts())"
   ]
  }
 ],
 "metadata": {
  "kernelspec": {
   "display_name": "Python 3",
   "language": "python",
   "name": "python3"
  },
  "language_info": {
   "codemirror_mode": {
    "name": "ipython",
    "version": 3
   },
   "file_extension": ".py",
   "mimetype": "text/x-python",
   "name": "python",
   "nbconvert_exporter": "python",
   "pygments_lexer": "ipython3",
   "version": "3.7.6"
  },
  "pycharm": {
   "stem_cell": {
    "cell_type": "raw",
    "metadata": {
     "collapsed": false
    },
    "source": []
   }
  }
 },
 "nbformat": 4,
 "nbformat_minor": 4
}
